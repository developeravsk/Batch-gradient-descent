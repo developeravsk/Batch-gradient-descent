{
 "cells": [
  {
   "cell_type": "code",
   "execution_count": 1,
   "metadata": {},
   "outputs": [],
   "source": [
    "import numpy as np\n",
    "import matplotlib.pyplot as plt"
   ]
  },
  {
   "cell_type": "code",
   "execution_count": 4,
   "metadata": {},
   "outputs": [],
   "source": [
    "X = np.random.normal(100,40,100)\n",
    "X1=np.random.normal(100,80,5)\n",
    "theta0 = 1\n",
    "theta1 = 2\n",
    "y =(theta0+theta1*X)+np.random.normal(0,35,100)\n",
    "m=len(X)\n",
    "X_final=np.concatenate([X,X1],axis=0)\n",
    "X_mat = np.matrix(X_final).T"
   ]
  },
  {
   "cell_type": "code",
   "execution_count": null,
   "metadata": {},
   "outputs": [],
   "source": []
  },
  {
   "cell_type": "code",
   "execution_count": 19,
   "metadata": {},
   "outputs": [],
   "source": [
    "X_con = np.concatenate([np.ones([m,1]),X_mat],1)"
   ]
  },
  {
   "cell_type": "code",
   "execution_count": 20,
   "metadata": {},
   "outputs": [],
   "source": [
    "y_mat = np.matrix(y).T"
   ]
  },
  {
   "cell_type": "code",
   "execution_count": 21,
   "metadata": {},
   "outputs": [
    {
     "data": {
      "text/plain": [
       "[<matplotlib.lines.Line2D at 0x7f6e86279f10>]"
      ]
     },
     "execution_count": 21,
     "metadata": {},
     "output_type": "execute_result"
    },
    {
     "data": {
      "image/png": "[encoded data removed]",
      "text/plain": [
       "<Figure size 432x288 with 1 Axes>"
      ]
     },
     "metadata": {
      "needs_background": "light"
     },
     "output_type": "display_data"
    }
   ],
   "source": [
    "plt.plot(X,y,'b.')"
   ]
  },
  {
   "cell_type": "code",
   "execution_count": 22,
   "metadata": {},
   "outputs": [
    {
     "name": "stdout",
     "output_type": "stream",
     "text": [
      "[[-2.45021477]\n",
      " [ 2.04402552]]\n"
     ]
    }
   ],
   "source": [
    "theta_opt = np.linalg.inv(X_con.T*X_con)*(X_con.T*y_mat)\n",
    "print(theta_opt)"
   ]
  },
  {
   "cell_type": "code",
   "execution_count": 23,
   "metadata": {},
   "outputs": [
    {
     "data": {
      "text/plain": [
       "[<matplotlib.lines.Line2D at 0x7f6e8626e810>]"
      ]
     },
     "execution_count": 23,
     "metadata": {},
     "output_type": "execute_result"
    },
    {
     "data": {
      "image/png": "[encoded data removed]",
      "text/plain": [
       "<Figure size 432x288 with 1 Axes>"
      ]
     },
     "metadata": {
      "needs_background": "light"
     },
     "output_type": "display_data"
    }
   ],
   "source": [
    "plt.plot(X,y,'b.')\n",
    "plt.plot(X,X_con*theta_opt,'r-')"
   ]
  },
  {
   "cell_type": "markdown",
   "metadata": {},
   "source": [
    "# Gradient Descend Part"
   ]
  },
  {
   "cell_type": "code",
   "execution_count": 24,
   "metadata": {},
   "outputs": [],
   "source": [
    "# hypothesis function\n",
    "def h(x,theta):\n",
    "    return np.dot(x,theta)\n",
    "\n",
    "# Cost function\n",
    "def cost_function(X, y, theta):\n",
    "    hypothesis = h(X,theta.T)\n",
    "    return (1/(2*100)) * np.dot((hypothesis-y).T, (hypothesis-y))\n",
    "\n",
    "#random theta initialized\n",
    "theta1 = np.random.randn(2,1)\n",
    "\n",
    "def gradient(X,y,theta):\n",
    "    hypothesis = h(X, theta)\n",
    "    return np.dot(X.T, (hypothesis - y))"
   ]
  },
  {
   "cell_type": "code",
   "execution_count": 25,
   "metadata": {},
   "outputs": [],
   "source": [
    "alpha = 0.00000001\n",
    "m = 500\n",
    "\n",
    "def gradient_descent(X,y,theta,alpha):\n",
    "    j_iter = np.zeros(m)\n",
    "    for i in np.arange(m):\n",
    "        theta = theta - alpha * gradient(X, y, theta)\n",
    "        hypothesis = h(X,theta)\n",
    "        j_iter[i] = cost_function(X, y, theta.T)[0][0]\n",
    "    return theta, j_iter\n",
    "\n",
    "theta_gd1, j_iter_gd1 = gradient_descent(X_con,y_mat,theta1,alpha)\n",
    "y_gd1 = np.dot(X_con,theta_gd1)"
   ]
  },
  {
   "cell_type": "code",
   "execution_count": 26,
   "metadata": {},
   "outputs": [
    {
     "name": "stdout",
     "output_type": "stream",
     "text": [
      "[[0.50123259]\n",
      " [2.01179417]]\n"
     ]
    }
   ],
   "source": [
    "print(theta_gd1)"
   ]
  },
  {
   "cell_type": "code",
   "execution_count": 27,
   "metadata": {},
   "outputs": [
    {
     "data": {
      "text/plain": [
       "[<matplotlib.lines.Line2D at 0x7f6e85fedc50>]"
      ]
     },
     "execution_count": 27,
     "metadata": {},
     "output_type": "execute_result"
    },
    {
     "data": {
      "image/png": "[encoded data removed]",
      "text/plain": [
       "<Figure size 432x288 with 1 Axes>"
      ]
     },
     "metadata": {
      "needs_background": "light"
     },
     "output_type": "display_data"
    }
   ],
   "source": [
    "plt.plot(X,y,'b.')\n",
    "plt.plot(X,X_con*theta_opt,'r-')\n",
    "plt.plot(X,y_gd1,'c-',label='batch')"
   ]
  },
  {
   "cell_type": "code",
   "execution_count": null,
   "metadata": {},
   "outputs": [],
   "source": []
  }
 ],
 "metadata": {
  "kernelspec": {
   "display_name": "Python 3",
   "language": "python",
   "name": "python3"
  },
  "language_info": {
   "codemirror_mode": {
    "name": "ipython",
    "version": 2
   },
   "file_extension": ".py",
   "mimetype": "text/x-python",
   "name": "python",
   "nbconvert_exporter": "python",
   "pygments_lexer": "ipython2",
   "version": "2.7.15+"
  }
 },
 "nbformat": 4,
 "nbformat_minor": 2
}
